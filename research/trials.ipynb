{
 "cells": [
  {
   "cell_type": "markdown",
   "id": "aed80c1a",
   "metadata": {},
   "source": [
    "# Trails"
   ]
  },
  {
   "cell_type": "markdown",
   "id": "9225a39e",
   "metadata": {},
   "source": [
    "## ConfigBox"
   ]
  },
  {
   "cell_type": "code",
   "execution_count": 12,
   "id": "144dc507",
   "metadata": {},
   "outputs": [],
   "source": [
    "import box"
   ]
  },
  {
   "cell_type": "code",
   "execution_count": 13,
   "id": "2c19a130",
   "metadata": {},
   "outputs": [],
   "source": [
    "d = {\n",
    "    \"key\": \"Value\",\n",
    "    \"Key1\": \"Value1\",\n",
    "}"
   ]
  },
  {
   "cell_type": "code",
   "execution_count": 2,
   "id": "7311182d",
   "metadata": {},
   "outputs": [
    {
     "name": "stdout",
     "output_type": "stream",
     "text": [
      "localhost\n",
      "5432\n",
      "True\n",
      "INFO\n"
     ]
    }
   ],
   "source": [
    "from box import Box\n",
    "\n",
    "config_data = {\n",
    "    \"database\": {\"host\": \"localhost\", \"port\": 5432, \"enabled\": \"True\"},\n",
    "    \"logging\": {\"level\": \"INFO\"},\n",
    "}\n",
    "\n",
    "config = Box(config_data)\n",
    "\n",
    "print(config.database.host)\n",
    "print(config.database.port)\n",
    "print(config.database.enabled)\n",
    "print(config.logging.level)"
   ]
  },
  {
   "cell_type": "markdown",
   "id": "7f357f9b",
   "metadata": {},
   "source": [
    "## Ensure Annotations"
   ]
  },
  {
   "cell_type": "code",
   "execution_count": 9,
   "id": "d1974e83",
   "metadata": {},
   "outputs": [
    {
     "name": "stdout",
     "output_type": "stream",
     "text": [
      "33\n",
      "Unexpected exception formatting exception. Falling back to standard exception\n"
     ]
    },
    {
     "name": "stderr",
     "output_type": "stream",
     "text": [
      "Traceback (most recent call last):\n",
      "  File \"/Users/yahiaehab/miniconda3/lib/python3.12/site-packages/IPython/core/interactiveshell.py\", line 3670, in run_code\n",
      "    exec(code_obj, self.user_global_ns, self.user_ns)\n",
      "  File \"/var/folders/j4/hqhlkt0j3wg3lzrb14sfs64h0000gn/T/ipykernel_42162/2568439371.py\", line 11, in <module>\n",
      "    print(get_product_ensure(2, \"3\"))\n",
      "          ^^^^^^^^^^^^^^^^^^^^^^^^^^\n",
      "  File \"/Users/yahiaehab/miniconda3/lib/python3.12/site-packages/ensure/main.py\", line 833, in __call__\n",
      "    raise EnsureError(msg.format(arg=arg, f=self.f, t=templ, valt=type(value)))\n",
      "ensure.main.EnsureError: Argument y of type <class 'str'> to <function get_product_ensure at 0x10ab1f7e0> does not match annotation type <class 'int'>\n",
      "\n",
      "During handling of the above exception, another exception occurred:\n",
      "\n",
      "Traceback (most recent call last):\n",
      "  File \"/Users/yahiaehab/miniconda3/lib/python3.12/site-packages/IPython/core/interactiveshell.py\", line 2176, in showtraceback\n",
      "    stb = self.InteractiveTB.structured_traceback(\n",
      "          ^^^^^^^^^^^^^^^^^^^^^^^^^^^^^^^^^^^^^^^^\n",
      "  File \"/Users/yahiaehab/miniconda3/lib/python3.12/site-packages/IPython/core/ultratb.py\", line 1182, in structured_traceback\n",
      "    return FormattedTB.structured_traceback(\n",
      "           ^^^^^^^^^^^^^^^^^^^^^^^^^^^^^^^^^\n",
      "  File \"/Users/yahiaehab/miniconda3/lib/python3.12/site-packages/IPython/core/ultratb.py\", line 1053, in structured_traceback\n",
      "    return VerboseTB.structured_traceback(\n",
      "           ^^^^^^^^^^^^^^^^^^^^^^^^^^^^^^^\n",
      "  File \"/Users/yahiaehab/miniconda3/lib/python3.12/site-packages/IPython/core/ultratb.py\", line 861, in structured_traceback\n",
      "    formatted_exceptions: list[list[str]] = self.format_exception_as_a_whole(\n",
      "                                            ^^^^^^^^^^^^^^^^^^^^^^^^^^^^^^^^^\n",
      "  File \"/Users/yahiaehab/miniconda3/lib/python3.12/site-packages/IPython/core/ultratb.py\", line 773, in format_exception_as_a_whole\n",
      "    frames.append(self.format_record(record))\n",
      "                  ^^^^^^^^^^^^^^^^^^^^^^^^^^\n",
      "  File \"/Users/yahiaehab/miniconda3/lib/python3.12/site-packages/IPython/core/ultratb.py\", line 652, in format_record\n",
      "    frame_info.lines,\n",
      "    ^^^^^^^^^^^^^^^^\n",
      "  File \"/Users/yahiaehab/miniconda3/lib/python3.12/site-packages/IPython/core/tbtools.py\", line 355, in lines\n",
      "    return self._sd.lines  # type: ignore[misc]\n",
      "           ^^^^^^^^^^^^^^\n",
      "  File \"/Users/yahiaehab/miniconda3/lib/python3.12/site-packages/stack_data/utils.py\", line 145, in cached_property_wrapper\n",
      "    value = obj.__dict__[self.func.__name__] = self.func(obj)\n",
      "                                               ^^^^^^^^^^^^^^\n",
      "  File \"/Users/yahiaehab/miniconda3/lib/python3.12/site-packages/stack_data/core.py\", line 734, in lines\n",
      "    pieces = self.included_pieces\n",
      "             ^^^^^^^^^^^^^^^^^^^^\n",
      "  File \"/Users/yahiaehab/miniconda3/lib/python3.12/site-packages/stack_data/utils.py\", line 145, in cached_property_wrapper\n",
      "    value = obj.__dict__[self.func.__name__] = self.func(obj)\n",
      "                                               ^^^^^^^^^^^^^^\n",
      "  File \"/Users/yahiaehab/miniconda3/lib/python3.12/site-packages/stack_data/core.py\", line 677, in included_pieces\n",
      "    scope_pieces = self.scope_pieces\n",
      "                   ^^^^^^^^^^^^^^^^^\n",
      "  File \"/Users/yahiaehab/miniconda3/lib/python3.12/site-packages/stack_data/utils.py\", line 145, in cached_property_wrapper\n",
      "    value = obj.__dict__[self.func.__name__] = self.func(obj)\n",
      "                                               ^^^^^^^^^^^^^^\n",
      "  File \"/Users/yahiaehab/miniconda3/lib/python3.12/site-packages/stack_data/core.py\", line 614, in scope_pieces\n",
      "    scope_start, scope_end = self.source.line_range(self.scope)\n",
      "                             ^^^^^^^^^^^^^^^^^^^^^^^^^^^^^^^^^^\n",
      "  File \"/Users/yahiaehab/miniconda3/lib/python3.12/site-packages/stack_data/core.py\", line 178, in line_range\n",
      "    return line_range(self.asttext(), node)\n",
      "                      ^^^^^^^^^^^^\n",
      "AttributeError: 'Source' object has no attribute 'asttext'\n"
     ]
    }
   ],
   "source": [
    "from ensure import ensure_annotations\n",
    "\n",
    "def get_product(x: int, y: int):\n",
    "    return x * y\n",
    "\n",
    "@ensure_annotations\n",
    "def get_product_ensure(x: int, y: int):\n",
    "    return x * y\n",
    "\n",
    "print(get_product(2, \"3\"))\n",
    "print(get_product_ensure(2, \"3\"))"
   ]
  },
  {
   "cell_type": "markdown",
   "id": "7e89f51e",
   "metadata": {},
   "source": [
    "## Download data from drive"
   ]
  },
  {
   "cell_type": "code",
   "execution_count": null,
   "id": "d025e553",
   "metadata": {},
   "outputs": [],
   "source": [
    "import gdwom\n",
    "\n",
    "url = \"https://drive.google.com/file/d/1z0mreUtRmR-P-magILsDR3T7M6IkGXtY/view?usp=sharing\"\n",
    "\n",
    "file_id = url.split(\"/\")[-2]\n",
    "prefix = \"https://drive.google.com/uc?export=download&id=\"\n",
    "gdown.download(prefix + file_id, \"data.zip\")\n"
   ]
  },
  {
   "cell_type": "code",
   "execution_count": null,
   "id": "c0913131",
   "metadata": {},
   "outputs": [],
   "source": []
  },
  {
   "cell_type": "code",
   "execution_count": null,
   "id": "d8d1dfc0",
   "metadata": {},
   "outputs": [],
   "source": []
  },
  {
   "cell_type": "code",
   "execution_count": null,
   "id": "d43303d2",
   "metadata": {},
   "outputs": [],
   "source": []
  },
  {
   "cell_type": "code",
   "execution_count": null,
   "id": "9d39e391",
   "metadata": {},
   "outputs": [],
   "source": []
  },
  {
   "cell_type": "code",
   "execution_count": null,
   "id": "fe7bb9ae",
   "metadata": {},
   "outputs": [],
   "source": []
  }
 ],
 "metadata": {
  "kernelspec": {
   "display_name": "base",
   "language": "python",
   "name": "python3"
  },
  "language_info": {
   "codemirror_mode": {
    "name": "ipython",
    "version": 3
   },
   "file_extension": ".py",
   "mimetype": "text/x-python",
   "name": "python",
   "nbconvert_exporter": "python",
   "pygments_lexer": "ipython3",
   "version": "3.12.9"
  }
 },
 "nbformat": 4,
 "nbformat_minor": 5
}
