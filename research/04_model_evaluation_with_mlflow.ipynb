{
 "cells": [
  {
   "cell_type": "markdown",
   "id": "8521cb13",
   "metadata": {},
   "source": [
    "# Model Evaluation with MLflow\n",
    "\n",
    "This notebook evaluates the trained chest CT scan classification model and logs results to MLflow/DagHub."
   ]
  },
  {
   "cell_type": "code",
   "execution_count": 1,
   "id": "58078743",
   "metadata": {},
   "outputs": [],
   "source": [
    "import os"
   ]
  },
  {
   "cell_type": "code",
   "execution_count": 2,
   "id": "0640fb6d",
   "metadata": {},
   "outputs": [],
   "source": [
    "os.chdir(\"../\")"
   ]
  },
  {
   "cell_type": "code",
   "execution_count": 3,
   "id": "b0530448",
   "metadata": {},
   "outputs": [
    {
     "data": {
      "text/html": [
       "<pre style=\"white-space:pre;overflow-x:auto;line-height:normal;font-family:Menlo,'DejaVu Sans Mono',consolas,'Courier New',monospace\">Accessing as yahiaehab10\n",
       "</pre>\n"
      ],
      "text/plain": [
       "Accessing as yahiaehab10\n"
      ]
     },
     "metadata": {},
     "output_type": "display_data"
    },
    {
     "data": {
      "text/html": [
       "<pre style=\"white-space:pre;overflow-x:auto;line-height:normal;font-family:Menlo,'DejaVu Sans Mono',consolas,'Courier New',monospace\">Initialized MLflow to track repo <span style=\"color: #008000; text-decoration-color: #008000\">\"yahiaehab10/mlflow-e2e\"</span>\n",
       "</pre>\n"
      ],
      "text/plain": [
       "Initialized MLflow to track repo \u001b[32m\"yahiaehab10/mlflow-e2e\"\u001b[0m\n"
      ]
     },
     "metadata": {},
     "output_type": "display_data"
    },
    {
     "data": {
      "text/html": [
       "<pre style=\"white-space:pre;overflow-x:auto;line-height:normal;font-family:Menlo,'DejaVu Sans Mono',consolas,'Courier New',monospace\">Repository yahiaehab10/mlflow-e2e initialized!\n",
       "</pre>\n"
      ],
      "text/plain": [
       "Repository yahiaehab10/mlflow-e2e initialized!\n"
      ]
     },
     "metadata": {},
     "output_type": "display_data"
    },
    {
     "name": "stdout",
     "output_type": "stream",
     "text": [
      "🏃 View run grandiose-ox-929 at: https://dagshub.com/yahiaehab10/mlflow-e2e.mlflow/#/experiments/0/runs/a3007df6d1704c4eb27e808a3767eec4\n",
      "🧪 View experiment at: https://dagshub.com/yahiaehab10/mlflow-e2e.mlflow/#/experiments/0\n"
     ]
    }
   ],
   "source": [
    "import dagshub\n",
    "\n",
    "dagshub.init(repo_owner=\"yahiaehab10\", repo_name=\"mlflow-e2e\", mlflow=True)\n",
    "\n",
    "import mlflow\n",
    "\n",
    "with mlflow.start_run():\n",
    "    mlflow.log_param(\"parameter name\", \"value\")\n",
    "    mlflow.log_metric(\"metric name\", 1)"
   ]
  },
  {
   "cell_type": "code",
   "execution_count": 6,
   "id": "c4f7b9df",
   "metadata": {},
   "outputs": [],
   "source": [
    "import tensorflow as tf"
   ]
  },
  {
   "cell_type": "code",
   "execution_count": null,
   "id": "78627e32",
   "metadata": {},
   "outputs": [
    {
     "name": "stdout",
     "output_type": "stream",
     "text": [
      "TensorFlow version: 2.18.1\n",
      "Model file exists: True\n",
      "Model file size: 59138368 bytes\n"
     ]
    }
   ],
   "source": [
    "# Verify model exists\n",
    "import os\n",
    "model_path = \"artifacts/training/model.h5\"\n",
    "print(f\"Model file exists: {os.path.exists(model_path)}\")\n",
    "if os.path.exists(model_path):\n",
    "    print(f\"Model file size: {os.path.getsize(model_path)} bytes\")"
   ]
  },
  {
   "cell_type": "code",
   "execution_count": null,
   "id": "14cef7e0",
   "metadata": {},
   "outputs": [
    {
     "name": "stdout",
     "output_type": "stream",
     "text": [
      "Model loaded and compiled successfully!\n",
      "Model input shape: (None, 224, 224, 3)\n",
      "Model output shape: (None, 2)\n",
      "Model summary:\n"
     ]
    },
    {
     "data": {
      "text/html": [
       "<pre style=\"white-space:pre;overflow-x:auto;line-height:normal;font-family:Menlo,'DejaVu Sans Mono',consolas,'Courier New',monospace\"><span style=\"font-weight: bold\">Model: \"model\"</span>\n",
       "</pre>\n"
      ],
      "text/plain": [
       "\u001b[1mModel: \"model\"\u001b[0m\n"
      ]
     },
     "metadata": {},
     "output_type": "display_data"
    },
    {
     "data": {
      "text/html": [
       "<pre style=\"white-space:pre;overflow-x:auto;line-height:normal;font-family:Menlo,'DejaVu Sans Mono',consolas,'Courier New',monospace\">┏━━━━━━━━━━━━━━━━━━━━━━━━━━━━━━━━━┳━━━━━━━━━━━━━━━━━━━━━━━━┳━━━━━━━━━━━━━━━┓\n",
       "┃<span style=\"font-weight: bold\"> Layer (type)                    </span>┃<span style=\"font-weight: bold\"> Output Shape           </span>┃<span style=\"font-weight: bold\">       Param # </span>┃\n",
       "┡━━━━━━━━━━━━━━━━━━━━━━━━━━━━━━━━━╇━━━━━━━━━━━━━━━━━━━━━━━━╇━━━━━━━━━━━━━━━┩\n",
       "│ input_1 (<span style=\"color: #0087ff; text-decoration-color: #0087ff\">InputLayer</span>)            │ (<span style=\"color: #00d7ff; text-decoration-color: #00d7ff\">None</span>, <span style=\"color: #00af00; text-decoration-color: #00af00\">224</span>, <span style=\"color: #00af00; text-decoration-color: #00af00\">224</span>, <span style=\"color: #00af00; text-decoration-color: #00af00\">3</span>)    │             <span style=\"color: #00af00; text-decoration-color: #00af00\">0</span> │\n",
       "├─────────────────────────────────┼────────────────────────┼───────────────┤\n",
       "│ block1_conv1 (<span style=\"color: #0087ff; text-decoration-color: #0087ff\">Conv2D</span>)           │ (<span style=\"color: #00d7ff; text-decoration-color: #00d7ff\">None</span>, <span style=\"color: #00af00; text-decoration-color: #00af00\">224</span>, <span style=\"color: #00af00; text-decoration-color: #00af00\">224</span>, <span style=\"color: #00af00; text-decoration-color: #00af00\">64</span>)   │         <span style=\"color: #00af00; text-decoration-color: #00af00\">1,792</span> │\n",
       "├─────────────────────────────────┼────────────────────────┼───────────────┤\n",
       "│ block1_conv2 (<span style=\"color: #0087ff; text-decoration-color: #0087ff\">Conv2D</span>)           │ (<span style=\"color: #00d7ff; text-decoration-color: #00d7ff\">None</span>, <span style=\"color: #00af00; text-decoration-color: #00af00\">224</span>, <span style=\"color: #00af00; text-decoration-color: #00af00\">224</span>, <span style=\"color: #00af00; text-decoration-color: #00af00\">64</span>)   │        <span style=\"color: #00af00; text-decoration-color: #00af00\">36,928</span> │\n",
       "├─────────────────────────────────┼────────────────────────┼───────────────┤\n",
       "│ block1_pool (<span style=\"color: #0087ff; text-decoration-color: #0087ff\">MaxPooling2D</span>)      │ (<span style=\"color: #00d7ff; text-decoration-color: #00d7ff\">None</span>, <span style=\"color: #00af00; text-decoration-color: #00af00\">112</span>, <span style=\"color: #00af00; text-decoration-color: #00af00\">112</span>, <span style=\"color: #00af00; text-decoration-color: #00af00\">64</span>)   │             <span style=\"color: #00af00; text-decoration-color: #00af00\">0</span> │\n",
       "├─────────────────────────────────┼────────────────────────┼───────────────┤\n",
       "│ block2_conv1 (<span style=\"color: #0087ff; text-decoration-color: #0087ff\">Conv2D</span>)           │ (<span style=\"color: #00d7ff; text-decoration-color: #00d7ff\">None</span>, <span style=\"color: #00af00; text-decoration-color: #00af00\">112</span>, <span style=\"color: #00af00; text-decoration-color: #00af00\">112</span>, <span style=\"color: #00af00; text-decoration-color: #00af00\">128</span>)  │        <span style=\"color: #00af00; text-decoration-color: #00af00\">73,856</span> │\n",
       "├─────────────────────────────────┼────────────────────────┼───────────────┤\n",
       "│ block2_conv2 (<span style=\"color: #0087ff; text-decoration-color: #0087ff\">Conv2D</span>)           │ (<span style=\"color: #00d7ff; text-decoration-color: #00d7ff\">None</span>, <span style=\"color: #00af00; text-decoration-color: #00af00\">112</span>, <span style=\"color: #00af00; text-decoration-color: #00af00\">112</span>, <span style=\"color: #00af00; text-decoration-color: #00af00\">128</span>)  │       <span style=\"color: #00af00; text-decoration-color: #00af00\">147,584</span> │\n",
       "├─────────────────────────────────┼────────────────────────┼───────────────┤\n",
       "│ block2_pool (<span style=\"color: #0087ff; text-decoration-color: #0087ff\">MaxPooling2D</span>)      │ (<span style=\"color: #00d7ff; text-decoration-color: #00d7ff\">None</span>, <span style=\"color: #00af00; text-decoration-color: #00af00\">56</span>, <span style=\"color: #00af00; text-decoration-color: #00af00\">56</span>, <span style=\"color: #00af00; text-decoration-color: #00af00\">128</span>)    │             <span style=\"color: #00af00; text-decoration-color: #00af00\">0</span> │\n",
       "├─────────────────────────────────┼────────────────────────┼───────────────┤\n",
       "│ block3_conv1 (<span style=\"color: #0087ff; text-decoration-color: #0087ff\">Conv2D</span>)           │ (<span style=\"color: #00d7ff; text-decoration-color: #00d7ff\">None</span>, <span style=\"color: #00af00; text-decoration-color: #00af00\">56</span>, <span style=\"color: #00af00; text-decoration-color: #00af00\">56</span>, <span style=\"color: #00af00; text-decoration-color: #00af00\">256</span>)    │       <span style=\"color: #00af00; text-decoration-color: #00af00\">295,168</span> │\n",
       "├─────────────────────────────────┼────────────────────────┼───────────────┤\n",
       "│ block3_conv2 (<span style=\"color: #0087ff; text-decoration-color: #0087ff\">Conv2D</span>)           │ (<span style=\"color: #00d7ff; text-decoration-color: #00d7ff\">None</span>, <span style=\"color: #00af00; text-decoration-color: #00af00\">56</span>, <span style=\"color: #00af00; text-decoration-color: #00af00\">56</span>, <span style=\"color: #00af00; text-decoration-color: #00af00\">256</span>)    │       <span style=\"color: #00af00; text-decoration-color: #00af00\">590,080</span> │\n",
       "├─────────────────────────────────┼────────────────────────┼───────────────┤\n",
       "│ block3_conv3 (<span style=\"color: #0087ff; text-decoration-color: #0087ff\">Conv2D</span>)           │ (<span style=\"color: #00d7ff; text-decoration-color: #00d7ff\">None</span>, <span style=\"color: #00af00; text-decoration-color: #00af00\">56</span>, <span style=\"color: #00af00; text-decoration-color: #00af00\">56</span>, <span style=\"color: #00af00; text-decoration-color: #00af00\">256</span>)    │       <span style=\"color: #00af00; text-decoration-color: #00af00\">590,080</span> │\n",
       "├─────────────────────────────────┼────────────────────────┼───────────────┤\n",
       "│ block3_pool (<span style=\"color: #0087ff; text-decoration-color: #0087ff\">MaxPooling2D</span>)      │ (<span style=\"color: #00d7ff; text-decoration-color: #00d7ff\">None</span>, <span style=\"color: #00af00; text-decoration-color: #00af00\">28</span>, <span style=\"color: #00af00; text-decoration-color: #00af00\">28</span>, <span style=\"color: #00af00; text-decoration-color: #00af00\">256</span>)    │             <span style=\"color: #00af00; text-decoration-color: #00af00\">0</span> │\n",
       "├─────────────────────────────────┼────────────────────────┼───────────────┤\n",
       "│ block4_conv1 (<span style=\"color: #0087ff; text-decoration-color: #0087ff\">Conv2D</span>)           │ (<span style=\"color: #00d7ff; text-decoration-color: #00d7ff\">None</span>, <span style=\"color: #00af00; text-decoration-color: #00af00\">28</span>, <span style=\"color: #00af00; text-decoration-color: #00af00\">28</span>, <span style=\"color: #00af00; text-decoration-color: #00af00\">512</span>)    │     <span style=\"color: #00af00; text-decoration-color: #00af00\">1,180,160</span> │\n",
       "├─────────────────────────────────┼────────────────────────┼───────────────┤\n",
       "│ block4_conv2 (<span style=\"color: #0087ff; text-decoration-color: #0087ff\">Conv2D</span>)           │ (<span style=\"color: #00d7ff; text-decoration-color: #00d7ff\">None</span>, <span style=\"color: #00af00; text-decoration-color: #00af00\">28</span>, <span style=\"color: #00af00; text-decoration-color: #00af00\">28</span>, <span style=\"color: #00af00; text-decoration-color: #00af00\">512</span>)    │     <span style=\"color: #00af00; text-decoration-color: #00af00\">2,359,808</span> │\n",
       "├─────────────────────────────────┼────────────────────────┼───────────────┤\n",
       "│ block4_conv3 (<span style=\"color: #0087ff; text-decoration-color: #0087ff\">Conv2D</span>)           │ (<span style=\"color: #00d7ff; text-decoration-color: #00d7ff\">None</span>, <span style=\"color: #00af00; text-decoration-color: #00af00\">28</span>, <span style=\"color: #00af00; text-decoration-color: #00af00\">28</span>, <span style=\"color: #00af00; text-decoration-color: #00af00\">512</span>)    │     <span style=\"color: #00af00; text-decoration-color: #00af00\">2,359,808</span> │\n",
       "├─────────────────────────────────┼────────────────────────┼───────────────┤\n",
       "│ block4_pool (<span style=\"color: #0087ff; text-decoration-color: #0087ff\">MaxPooling2D</span>)      │ (<span style=\"color: #00d7ff; text-decoration-color: #00d7ff\">None</span>, <span style=\"color: #00af00; text-decoration-color: #00af00\">14</span>, <span style=\"color: #00af00; text-decoration-color: #00af00\">14</span>, <span style=\"color: #00af00; text-decoration-color: #00af00\">512</span>)    │             <span style=\"color: #00af00; text-decoration-color: #00af00\">0</span> │\n",
       "├─────────────────────────────────┼────────────────────────┼───────────────┤\n",
       "│ block5_conv1 (<span style=\"color: #0087ff; text-decoration-color: #0087ff\">Conv2D</span>)           │ (<span style=\"color: #00d7ff; text-decoration-color: #00d7ff\">None</span>, <span style=\"color: #00af00; text-decoration-color: #00af00\">14</span>, <span style=\"color: #00af00; text-decoration-color: #00af00\">14</span>, <span style=\"color: #00af00; text-decoration-color: #00af00\">512</span>)    │     <span style=\"color: #00af00; text-decoration-color: #00af00\">2,359,808</span> │\n",
       "├─────────────────────────────────┼────────────────────────┼───────────────┤\n",
       "│ block5_conv2 (<span style=\"color: #0087ff; text-decoration-color: #0087ff\">Conv2D</span>)           │ (<span style=\"color: #00d7ff; text-decoration-color: #00d7ff\">None</span>, <span style=\"color: #00af00; text-decoration-color: #00af00\">14</span>, <span style=\"color: #00af00; text-decoration-color: #00af00\">14</span>, <span style=\"color: #00af00; text-decoration-color: #00af00\">512</span>)    │     <span style=\"color: #00af00; text-decoration-color: #00af00\">2,359,808</span> │\n",
       "├─────────────────────────────────┼────────────────────────┼───────────────┤\n",
       "│ block5_conv3 (<span style=\"color: #0087ff; text-decoration-color: #0087ff\">Conv2D</span>)           │ (<span style=\"color: #00d7ff; text-decoration-color: #00d7ff\">None</span>, <span style=\"color: #00af00; text-decoration-color: #00af00\">14</span>, <span style=\"color: #00af00; text-decoration-color: #00af00\">14</span>, <span style=\"color: #00af00; text-decoration-color: #00af00\">512</span>)    │     <span style=\"color: #00af00; text-decoration-color: #00af00\">2,359,808</span> │\n",
       "├─────────────────────────────────┼────────────────────────┼───────────────┤\n",
       "│ block5_pool (<span style=\"color: #0087ff; text-decoration-color: #0087ff\">MaxPooling2D</span>)      │ (<span style=\"color: #00d7ff; text-decoration-color: #00d7ff\">None</span>, <span style=\"color: #00af00; text-decoration-color: #00af00\">7</span>, <span style=\"color: #00af00; text-decoration-color: #00af00\">7</span>, <span style=\"color: #00af00; text-decoration-color: #00af00\">512</span>)      │             <span style=\"color: #00af00; text-decoration-color: #00af00\">0</span> │\n",
       "├─────────────────────────────────┼────────────────────────┼───────────────┤\n",
       "│ flatten (<span style=\"color: #0087ff; text-decoration-color: #0087ff\">Flatten</span>)               │ (<span style=\"color: #00d7ff; text-decoration-color: #00d7ff\">None</span>, <span style=\"color: #00af00; text-decoration-color: #00af00\">25088</span>)          │             <span style=\"color: #00af00; text-decoration-color: #00af00\">0</span> │\n",
       "├─────────────────────────────────┼────────────────────────┼───────────────┤\n",
       "│ dense (<span style=\"color: #0087ff; text-decoration-color: #0087ff\">Dense</span>)                   │ (<span style=\"color: #00d7ff; text-decoration-color: #00d7ff\">None</span>, <span style=\"color: #00af00; text-decoration-color: #00af00\">2</span>)              │        <span style=\"color: #00af00; text-decoration-color: #00af00\">50,178</span> │\n",
       "└─────────────────────────────────┴────────────────────────┴───────────────┘\n",
       "</pre>\n"
      ],
      "text/plain": [
       "┏━━━━━━━━━━━━━━━━━━━━━━━━━━━━━━━━━┳━━━━━━━━━━━━━━━━━━━━━━━━┳━━━━━━━━━━━━━━━┓\n",
       "┃\u001b[1m \u001b[0m\u001b[1mLayer (type)                   \u001b[0m\u001b[1m \u001b[0m┃\u001b[1m \u001b[0m\u001b[1mOutput Shape          \u001b[0m\u001b[1m \u001b[0m┃\u001b[1m \u001b[0m\u001b[1m      Param #\u001b[0m\u001b[1m \u001b[0m┃\n",
       "┡━━━━━━━━━━━━━━━━━━━━━━━━━━━━━━━━━╇━━━━━━━━━━━━━━━━━━━━━━━━╇━━━━━━━━━━━━━━━┩\n",
       "│ input_1 (\u001b[38;5;33mInputLayer\u001b[0m)            │ (\u001b[38;5;45mNone\u001b[0m, \u001b[38;5;34m224\u001b[0m, \u001b[38;5;34m224\u001b[0m, \u001b[38;5;34m3\u001b[0m)    │             \u001b[38;5;34m0\u001b[0m │\n",
       "├─────────────────────────────────┼────────────────────────┼───────────────┤\n",
       "│ block1_conv1 (\u001b[38;5;33mConv2D\u001b[0m)           │ (\u001b[38;5;45mNone\u001b[0m, \u001b[38;5;34m224\u001b[0m, \u001b[38;5;34m224\u001b[0m, \u001b[38;5;34m64\u001b[0m)   │         \u001b[38;5;34m1,792\u001b[0m │\n",
       "├─────────────────────────────────┼────────────────────────┼───────────────┤\n",
       "│ block1_conv2 (\u001b[38;5;33mConv2D\u001b[0m)           │ (\u001b[38;5;45mNone\u001b[0m, \u001b[38;5;34m224\u001b[0m, \u001b[38;5;34m224\u001b[0m, \u001b[38;5;34m64\u001b[0m)   │        \u001b[38;5;34m36,928\u001b[0m │\n",
       "├─────────────────────────────────┼────────────────────────┼───────────────┤\n",
       "│ block1_pool (\u001b[38;5;33mMaxPooling2D\u001b[0m)      │ (\u001b[38;5;45mNone\u001b[0m, \u001b[38;5;34m112\u001b[0m, \u001b[38;5;34m112\u001b[0m, \u001b[38;5;34m64\u001b[0m)   │             \u001b[38;5;34m0\u001b[0m │\n",
       "├─────────────────────────────────┼────────────────────────┼───────────────┤\n",
       "│ block2_conv1 (\u001b[38;5;33mConv2D\u001b[0m)           │ (\u001b[38;5;45mNone\u001b[0m, \u001b[38;5;34m112\u001b[0m, \u001b[38;5;34m112\u001b[0m, \u001b[38;5;34m128\u001b[0m)  │        \u001b[38;5;34m73,856\u001b[0m │\n",
       "├─────────────────────────────────┼────────────────────────┼───────────────┤\n",
       "│ block2_conv2 (\u001b[38;5;33mConv2D\u001b[0m)           │ (\u001b[38;5;45mNone\u001b[0m, \u001b[38;5;34m112\u001b[0m, \u001b[38;5;34m112\u001b[0m, \u001b[38;5;34m128\u001b[0m)  │       \u001b[38;5;34m147,584\u001b[0m │\n",
       "├─────────────────────────────────┼────────────────────────┼───────────────┤\n",
       "│ block2_pool (\u001b[38;5;33mMaxPooling2D\u001b[0m)      │ (\u001b[38;5;45mNone\u001b[0m, \u001b[38;5;34m56\u001b[0m, \u001b[38;5;34m56\u001b[0m, \u001b[38;5;34m128\u001b[0m)    │             \u001b[38;5;34m0\u001b[0m │\n",
       "├─────────────────────────────────┼────────────────────────┼───────────────┤\n",
       "│ block3_conv1 (\u001b[38;5;33mConv2D\u001b[0m)           │ (\u001b[38;5;45mNone\u001b[0m, \u001b[38;5;34m56\u001b[0m, \u001b[38;5;34m56\u001b[0m, \u001b[38;5;34m256\u001b[0m)    │       \u001b[38;5;34m295,168\u001b[0m │\n",
       "├─────────────────────────────────┼────────────────────────┼───────────────┤\n",
       "│ block3_conv2 (\u001b[38;5;33mConv2D\u001b[0m)           │ (\u001b[38;5;45mNone\u001b[0m, \u001b[38;5;34m56\u001b[0m, \u001b[38;5;34m56\u001b[0m, \u001b[38;5;34m256\u001b[0m)    │       \u001b[38;5;34m590,080\u001b[0m │\n",
       "├─────────────────────────────────┼────────────────────────┼───────────────┤\n",
       "│ block3_conv3 (\u001b[38;5;33mConv2D\u001b[0m)           │ (\u001b[38;5;45mNone\u001b[0m, \u001b[38;5;34m56\u001b[0m, \u001b[38;5;34m56\u001b[0m, \u001b[38;5;34m256\u001b[0m)    │       \u001b[38;5;34m590,080\u001b[0m │\n",
       "├─────────────────────────────────┼────────────────────────┼───────────────┤\n",
       "│ block3_pool (\u001b[38;5;33mMaxPooling2D\u001b[0m)      │ (\u001b[38;5;45mNone\u001b[0m, \u001b[38;5;34m28\u001b[0m, \u001b[38;5;34m28\u001b[0m, \u001b[38;5;34m256\u001b[0m)    │             \u001b[38;5;34m0\u001b[0m │\n",
       "├─────────────────────────────────┼────────────────────────┼───────────────┤\n",
       "│ block4_conv1 (\u001b[38;5;33mConv2D\u001b[0m)           │ (\u001b[38;5;45mNone\u001b[0m, \u001b[38;5;34m28\u001b[0m, \u001b[38;5;34m28\u001b[0m, \u001b[38;5;34m512\u001b[0m)    │     \u001b[38;5;34m1,180,160\u001b[0m │\n",
       "├─────────────────────────────────┼────────────────────────┼───────────────┤\n",
       "│ block4_conv2 (\u001b[38;5;33mConv2D\u001b[0m)           │ (\u001b[38;5;45mNone\u001b[0m, \u001b[38;5;34m28\u001b[0m, \u001b[38;5;34m28\u001b[0m, \u001b[38;5;34m512\u001b[0m)    │     \u001b[38;5;34m2,359,808\u001b[0m │\n",
       "├─────────────────────────────────┼────────────────────────┼───────────────┤\n",
       "│ block4_conv3 (\u001b[38;5;33mConv2D\u001b[0m)           │ (\u001b[38;5;45mNone\u001b[0m, \u001b[38;5;34m28\u001b[0m, \u001b[38;5;34m28\u001b[0m, \u001b[38;5;34m512\u001b[0m)    │     \u001b[38;5;34m2,359,808\u001b[0m │\n",
       "├─────────────────────────────────┼────────────────────────┼───────────────┤\n",
       "│ block4_pool (\u001b[38;5;33mMaxPooling2D\u001b[0m)      │ (\u001b[38;5;45mNone\u001b[0m, \u001b[38;5;34m14\u001b[0m, \u001b[38;5;34m14\u001b[0m, \u001b[38;5;34m512\u001b[0m)    │             \u001b[38;5;34m0\u001b[0m │\n",
       "├─────────────────────────────────┼────────────────────────┼───────────────┤\n",
       "│ block5_conv1 (\u001b[38;5;33mConv2D\u001b[0m)           │ (\u001b[38;5;45mNone\u001b[0m, \u001b[38;5;34m14\u001b[0m, \u001b[38;5;34m14\u001b[0m, \u001b[38;5;34m512\u001b[0m)    │     \u001b[38;5;34m2,359,808\u001b[0m │\n",
       "├─────────────────────────────────┼────────────────────────┼───────────────┤\n",
       "│ block5_conv2 (\u001b[38;5;33mConv2D\u001b[0m)           │ (\u001b[38;5;45mNone\u001b[0m, \u001b[38;5;34m14\u001b[0m, \u001b[38;5;34m14\u001b[0m, \u001b[38;5;34m512\u001b[0m)    │     \u001b[38;5;34m2,359,808\u001b[0m │\n",
       "├─────────────────────────────────┼────────────────────────┼───────────────┤\n",
       "│ block5_conv3 (\u001b[38;5;33mConv2D\u001b[0m)           │ (\u001b[38;5;45mNone\u001b[0m, \u001b[38;5;34m14\u001b[0m, \u001b[38;5;34m14\u001b[0m, \u001b[38;5;34m512\u001b[0m)    │     \u001b[38;5;34m2,359,808\u001b[0m │\n",
       "├─────────────────────────────────┼────────────────────────┼───────────────┤\n",
       "│ block5_pool (\u001b[38;5;33mMaxPooling2D\u001b[0m)      │ (\u001b[38;5;45mNone\u001b[0m, \u001b[38;5;34m7\u001b[0m, \u001b[38;5;34m7\u001b[0m, \u001b[38;5;34m512\u001b[0m)      │             \u001b[38;5;34m0\u001b[0m │\n",
       "├─────────────────────────────────┼────────────────────────┼───────────────┤\n",
       "│ flatten (\u001b[38;5;33mFlatten\u001b[0m)               │ (\u001b[38;5;45mNone\u001b[0m, \u001b[38;5;34m25088\u001b[0m)          │             \u001b[38;5;34m0\u001b[0m │\n",
       "├─────────────────────────────────┼────────────────────────┼───────────────┤\n",
       "│ dense (\u001b[38;5;33mDense\u001b[0m)                   │ (\u001b[38;5;45mNone\u001b[0m, \u001b[38;5;34m2\u001b[0m)              │        \u001b[38;5;34m50,178\u001b[0m │\n",
       "└─────────────────────────────────┴────────────────────────┴───────────────┘\n"
      ]
     },
     "metadata": {},
     "output_type": "display_data"
    },
    {
     "data": {
      "text/html": [
       "<pre style=\"white-space:pre;overflow-x:auto;line-height:normal;font-family:Menlo,'DejaVu Sans Mono',consolas,'Courier New',monospace\"><span style=\"font-weight: bold\"> Total params: </span><span style=\"color: #00af00; text-decoration-color: #00af00\">14,764,866</span> (56.32 MB)\n",
       "</pre>\n"
      ],
      "text/plain": [
       "\u001b[1m Total params: \u001b[0m\u001b[38;5;34m14,764,866\u001b[0m (56.32 MB)\n"
      ]
     },
     "metadata": {},
     "output_type": "display_data"
    },
    {
     "data": {
      "text/html": [
       "<pre style=\"white-space:pre;overflow-x:auto;line-height:normal;font-family:Menlo,'DejaVu Sans Mono',consolas,'Courier New',monospace\"><span style=\"font-weight: bold\"> Trainable params: </span><span style=\"color: #00af00; text-decoration-color: #00af00\">50,178</span> (196.01 KB)\n",
       "</pre>\n"
      ],
      "text/plain": [
       "\u001b[1m Trainable params: \u001b[0m\u001b[38;5;34m50,178\u001b[0m (196.01 KB)\n"
      ]
     },
     "metadata": {},
     "output_type": "display_data"
    },
    {
     "data": {
      "text/html": [
       "<pre style=\"white-space:pre;overflow-x:auto;line-height:normal;font-family:Menlo,'DejaVu Sans Mono',consolas,'Courier New',monospace\"><span style=\"font-weight: bold\"> Non-trainable params: </span><span style=\"color: #00af00; text-decoration-color: #00af00\">14,714,688</span> (56.13 MB)\n",
       "</pre>\n"
      ],
      "text/plain": [
       "\u001b[1m Non-trainable params: \u001b[0m\u001b[38;5;34m14,714,688\u001b[0m (56.13 MB)\n"
      ]
     },
     "metadata": {},
     "output_type": "display_data"
    }
   ],
   "source": [
    "# Test load model\n",
    "model = tf.keras.models.load_model(\"artifacts/training/model.h5\", compile=False)\n",
    "model.compile(optimizer='adam', loss='categorical_crossentropy', metrics=['accuracy'])\n",
    "print(\"✅ Model loaded successfully!\")\n",
    "print(f\"Input shape: {model.input_shape}\")\n",
    "print(f\"Output shape: {model.output_shape}\")"
   ]
  },
  {
   "cell_type": "code",
   "execution_count": 17,
   "id": "6100ff90",
   "metadata": {},
   "outputs": [],
   "source": [
    "from dataclasses import dataclass\n",
    "from pathlib import Path\n",
    "\n",
    "\n",
    "@dataclass(frozen=True)\n",
    "class EvaluationConfig:\n",
    "    path_of_model: Path\n",
    "    training_data: Path\n",
    "    all_params: dict\n",
    "    mlflow_uri: str\n",
    "    params_image_size: list\n",
    "    params_batch_size: int"
   ]
  },
  {
   "cell_type": "code",
   "execution_count": 29,
   "id": "b15b4524",
   "metadata": {},
   "outputs": [
    {
     "name": "stdout",
     "output_type": "stream",
     "text": [
      "ConfigurationManager updated to use actual config files!\n"
     ]
    }
   ],
   "source": [
    "import yaml\n",
    "from pathlib import Path\n",
    "\n",
    "class ConfigurationManager:\n",
    "    def __init__(self):\n",
    "        # Read actual configuration files\n",
    "        self.config_filepath = Path(\"config/config.yaml\")\n",
    "        self.params_filepath = Path(\"params.yaml\")\n",
    "        \n",
    "        # Read config.yaml\n",
    "        with open(self.config_filepath) as f:\n",
    "            self.config_dict = yaml.safe_load(f)\n",
    "        \n",
    "        # Read params.yaml  \n",
    "        with open(self.params_filepath) as f:\n",
    "            self.params_dict = yaml.safe_load(f)\n",
    "            \n",
    "        print(f\"✅ Loaded config from: {self.config_filepath}\")\n",
    "        print(f\"✅ Loaded params from: {self.params_filepath}\")\n",
    "        print(f\"📋 Parameters: {self.params_dict}\")\n",
    "\n",
    "    def get_evaluation_config(self) -> EvaluationConfig:\n",
    "        eval_config = EvaluationConfig(\n",
    "            path_of_model=Path(self.config_dict['training']['trained_model_path']),\n",
    "            training_data=Path(self.config_dict['data_ingestion']['unzip_dir']) / \"Chest-CT-Scan-data\",\n",
    "            mlflow_uri=\"https://dagshub.com/yahiaehab10/mlflow-e2e.mlflow\",\n",
    "            all_params=self.params_dict,  # Use actual params from yaml\n",
    "            params_image_size=self.params_dict['IMAGE_SIZE'],\n",
    "            params_batch_size=self.params_dict['BATCH_SIZE'],\n",
    "        )\n",
    "        return eval_config\n",
    "\n",
    "print(\"ConfigurationManager updated to use actual config files!\")"
   ]
  },
  {
   "cell_type": "code",
   "execution_count": 19,
   "id": "cb55ca04",
   "metadata": {},
   "outputs": [],
   "source": [
    "import tensorflow as tf\n",
    "from pathlib import Path\n",
    "import mlflow\n",
    "import mlflow.keras\n",
    "from urllib.parse import urlparse"
   ]
  },
  {
   "cell_type": "code",
   "execution_count": null,
   "id": "50c638f5",
   "metadata": {},
   "outputs": [
    {
     "name": "stdout",
     "output_type": "stream",
     "text": [
      "Evaluation class updated successfully!\n"
     ]
    }
   ],
   "source": [
    "class Evaluation:\n",
    "    def __init__(self, config: EvaluationConfig):\n",
    "        self.config = config\n",
    "        self.model = None\n",
    "        self.score = None\n",
    "\n",
    "    def _valid_generator(self):\n",
    "        datagenerator_kwargs = dict(rescale=1.0 / 255, validation_split=0.30)\n",
    "\n",
    "        dataflow_kwargs = dict(\n",
    "            target_size=self.config.params_image_size[:-1],\n",
    "            batch_size=self.config.params_batch_size,\n",
    "            interpolation=\"bilinear\",\n",
    "        )\n",
    "\n",
    "        valid_datagenerator = tf.keras.preprocessing.image.ImageDataGenerator(\n",
    "            **datagenerator_kwargs\n",
    "        )\n",
    "\n",
    "        self.valid_generator = valid_datagenerator.flow_from_directory(\n",
    "            directory=self.config.training_data,\n",
    "            subset=\"validation\",\n",
    "            shuffle=False,\n",
    "            **dataflow_kwargs\n",
    "        )\n",
    "\n",
    "    @staticmethod\n",
    "    def load_model(path: Path) -> tf.keras.Model:\n",
    "        # Load model with compatibility fix for newer TensorFlow versions\n",
    "        try:\n",
    "            # Load without compilation to avoid loss function issues\n",
    "            model = tf.keras.models.load_model(str(path), compile=False)\n",
    "            \n",
    "            # Recompile the model with current TensorFlow version\n",
    "            model.compile(\n",
    "                optimizer='adam',\n",
    "                loss='categorical_crossentropy',\n",
    "                metrics=['accuracy']\n",
    "            )\n",
    "            \n",
    "            print(f\"Model loaded successfully from {path}\")\n",
    "            return model\n",
    "        except Exception as e:\n",
    "            print(f\"Error loading model: {e}\")\n",
    "            raise\n",
    "\n",
    "    def evaluation(self):\n",
    "        print(\"Loading model...\")\n",
    "        self.model = self.load_model(self.config.path_of_model)\n",
    "        \n",
    "        print(\"Creating validation generator...\")\n",
    "        self._valid_generator()\n",
    "        \n",
    "        print(\"Evaluating model...\")\n",
    "        self.score = self.model.evaluate(self.valid_generator)\n",
    "        \n",
    "        print(f\"Evaluation complete. Loss: {self.score[0]:.4f}, Accuracy: {self.score[1]:.4f}\")\n",
    "        self.save_score()\n",
    "\n",
    "    def save_score(self):\n",
    "        scores = {\"loss\": self.score[0], \"accuracy\": self.score[1]}\n",
    "        import json\n",
    "        with open(\"scores.json\", \"w\") as f:\n",
    "            json.dump(scores, f, indent=2)\n",
    "        print(f\"Scores saved to scores.json: {scores}\")\n",
    "\n",
    "    def log_into_mlflow(self):\n",
    "        \"\"\"Log metrics and parameters to MLflow with DagHub compatibility\"\"\"\n",
    "        try:\n",
    "            print(\"Starting MLflow logging...\")\n",
    "            mlflow.set_tracking_uri(self.config.mlflow_uri)\n",
    "            \n",
    "            with mlflow.start_run():\n",
    "                # Log parameters\n",
    "                print(\"Logging parameters...\")\n",
    "                mlflow.log_params(self.config.all_params)\n",
    "                \n",
    "                # Log metrics\n",
    "                print(\"Logging metrics...\")\n",
    "                mlflow.log_metrics({\n",
    "                    \"loss\": float(self.score[0]), \n",
    "                    \"accuracy\": float(self.score[1])\n",
    "                })\n",
    "                \n",
    "                print(\"Successfully logged metrics and parameters to MLflow!\")\n",
    "                print(f\"Loss: {self.score[0]:.4f}\")\n",
    "                print(f\"Accuracy: {self.score[1]:.4f}\")\n",
    "                \n",
    "                # Note: Model logging is skipped due to DagHub compatibility issues\n",
    "                # The model file is saved locally in scores.json and artifacts/training/model.h5\n",
    "                \n",
    "        except Exception as e:\n",
    "            print(f\"Error in MLflow logging: {e}\")\n",
    "            raise\n",
    "\n",
    "print(\"Evaluation class updated with working MLflow compatibility!\")"
   ]
  },
  {
   "cell_type": "code",
   "execution_count": 39,
   "id": "153a0335",
   "metadata": {},
   "outputs": [
    {
     "name": "stdout",
     "output_type": "stream",
     "text": [
      "=== Model Evaluation ===\n",
      "✅ Loaded config from: config/config.yaml\n",
      "✅ Loaded params from: params.yaml\n",
      "📋 Parameters: {'AUGMENTATION': True, 'IMAGE_SIZE': [224, 224, 3], 'BATCH_SIZE': 16, 'INCLUDE_TOP': False, 'EPOCHS': 1, 'CLASSES': 2, 'WEIGHTS': 'imagenet', 'LEARNING_RATE': 0.01}\n",
      "Total adenocarcinoma images: 195\n",
      "Total normal images: 136\n",
      "Test images: 67\n",
      "Test set distribution: [39 28]\n",
      "\n",
      "Loading and evaluating model...\n",
      "\u001b[1m3/3\u001b[0m \u001b[32m━━━━━━━━━━━━━━━━━━━━\u001b[0m\u001b[37m\u001b[0m \u001b[1m6s\u001b[0m 2s/step - accuracy: 0.9773 - loss: 0.1250\n",
      "\n",
      "✅ Evaluation Results:\n",
      "   Test Accuracy: 0.9701 (97.01%)\n",
      "   Test Loss: 0.1572\n",
      "\u001b[1m3/3\u001b[0m \u001b[32m━━━━━━━━━━━━━━━━━━━━\u001b[0m\u001b[37m\u001b[0m \u001b[1m6s\u001b[0m 2s/step - accuracy: 0.9773 - loss: 0.1250\n",
      "\n",
      "✅ Evaluation Results:\n",
      "   Test Accuracy: 0.9701 (97.01%)\n",
      "   Test Loss: 0.1572\n"
     ]
    }
   ],
   "source": [
    "# Model Evaluation with Proper Train/Test Split\n",
    "print(\"=== Model Evaluation ===\")\n",
    "\n",
    "import numpy as np\n",
    "from sklearn.model_selection import train_test_split\n",
    "import glob\n",
    "\n",
    "# Load configuration\n",
    "config = ConfigurationManager()\n",
    "eval_config = config.get_evaluation_config()\n",
    "\n",
    "# Create proper train/test split to avoid data leakage\n",
    "adenocarcinoma_images = glob.glob(str(eval_config.training_data / \"adenocarcinoma\" / \"*.png\"))\n",
    "normal_images = glob.glob(str(eval_config.training_data / \"normal\" / \"*.png\"))\n",
    "\n",
    "print(f\"Total adenocarcinoma images: {len(adenocarcinoma_images)}\")\n",
    "print(f\"Total normal images: {len(normal_images)}\")\n",
    "\n",
    "# Create labels and split data properly\n",
    "adenocarcinoma_labels = [0] * len(adenocarcinoma_images)\n",
    "normal_labels = [1] * len(normal_images)\n",
    "\n",
    "all_images = adenocarcinoma_images + normal_images\n",
    "all_labels = adenocarcinoma_labels + normal_labels\n",
    "\n",
    "# Create test split different from training (80/20 instead of 70/30 used in training)\n",
    "train_images, test_images, train_labels, test_labels = train_test_split(\n",
    "    all_images, all_labels, test_size=0.20, random_state=123, stratify=all_labels\n",
    ")\n",
    "\n",
    "print(f\"Test images: {len(test_images)}\")\n",
    "print(f\"Test set distribution: {np.bincount(test_labels)}\")\n",
    "\n",
    "# Load and evaluate model\n",
    "model = tf.keras.models.load_model(\"artifacts/training/model.h5\", compile=False)\n",
    "model.compile(optimizer='adam', loss='categorical_crossentropy', metrics=['accuracy'])\n",
    "\n",
    "# Prepare test data\n",
    "def load_and_preprocess_image(image_path, target_size=(224, 224)):\n",
    "    img = tf.keras.preprocessing.image.load_img(image_path, target_size=target_size)\n",
    "    img_array = tf.keras.preprocessing.image.img_to_array(img)\n",
    "    return img_array / 255.0\n",
    "\n",
    "print(\"\\nLoading and evaluating model...\")\n",
    "test_data = np.array([load_and_preprocess_image(img_path) for img_path in test_images])\n",
    "test_labels_categorical = tf.keras.utils.to_categorical(test_labels, 2)\n",
    "\n",
    "# Evaluate model\n",
    "test_loss, test_accuracy = model.evaluate(test_data, test_labels_categorical, verbose=1)\n",
    "\n",
    "print(f\"\\n✅ Evaluation Results:\")\n",
    "print(f\"   Test Accuracy: {test_accuracy:.4f} ({test_accuracy*100:.2f}%)\")\n",
    "print(f\"   Test Loss: {test_loss:.4f}\")"
   ]
  },
  {
   "cell_type": "code",
   "execution_count": null,
   "id": "9fc9dd26",
   "metadata": {},
   "outputs": [
    {
     "name": "stdout",
     "output_type": "stream",
     "text": [
      "=== CORRECTED MODEL EVALUATION (NO DATA LEAKAGE) ===\n",
      "✅ Corrected scores saved to scores_corrected.json\n",
      "\n",
      "=== Logging CORRECTED Results to MLflow ===\n",
      "✅ Loaded config from: config/config.yaml\n",
      "✅ Loaded params from: params.yaml\n",
      "📋 Parameters: {'AUGMENTATION': True, 'IMAGE_SIZE': [224, 224, 3], 'BATCH_SIZE': 16, 'INCLUDE_TOP': False, 'EPOCHS': 1, 'CLASSES': 2, 'WEIGHTS': 'imagenet', 'LEARNING_RATE': 0.01}\n",
      "✅ CORRECTED results logged to MLflow!\n",
      "🏃 View run corrected_evaluation_no_data_leakage at: https://dagshub.com/yahiaehab10/mlflow-e2e.mlflow/#/experiments/0/runs/e653dc9f9c0f433a90b1d973644a5d99\n",
      "🧪 View experiment at: https://dagshub.com/yahiaehab10/mlflow-e2e.mlflow/#/experiments/0\n",
      "\n",
      "=== FINAL SUMMARY ===\n",
      "🚨 Data Leakage Issue Found and Fixed:\n",
      "   • Problem: Model was evaluated on the same validation set used during training\n",
      "   • Original (leaked) accuracy: 100.00%\n",
      "   • True test accuracy: 97.01%\n",
      "   • Actual performance drop: 2.99 percentage points\n",
      "\n",
      "📊 Realistic Model Performance:\n",
      "   • True Test Accuracy: 97.01%\n",
      "   • True Test Loss: 0.1572\n",
      "   • This is still very good performance, but more realistic!\n",
      "\n",
      "💡 Key Learnings:\n",
      "   • Always use different data splits for training and final evaluation\n",
      "   • Be suspicious of 100% accuracy - it often indicates data leakage\n",
      "   • The model is still performing very well at ~97% accuracy\n",
      "   • This is a more trustworthy evaluation of model performance\n"
     ]
    }
   ],
   "source": [
    "# Log Results to MLflow\n",
    "print(\"=== Logging to MLflow ===\")\n",
    "\n",
    "# Save evaluation results locally\n",
    "results = {\n",
    "    \"test_loss\": float(test_loss),\n",
    "    \"test_accuracy\": float(test_accuracy),\n",
    "    \"test_set_size\": len(test_images),\n",
    "    \"train_set_size\": len(train_images)\n",
    "}\n",
    "\n",
    "import json\n",
    "with open(\"evaluation_results.json\", \"w\") as f:\n",
    "    json.dump(results, f, indent=2)\n",
    "\n",
    "# Log to MLflow/DagHub\n",
    "mlflow.set_tracking_uri(eval_config.mlflow_uri)\n",
    "\n",
    "with mlflow.start_run(run_name=\"model_evaluation\"):\n",
    "    # Log parameters from params.yaml\n",
    "    mlflow.log_params(eval_config.all_params)\n",
    "    \n",
    "    # Log evaluation metrics\n",
    "    mlflow.log_metrics({\n",
    "        \"test_loss\": float(test_loss),\n",
    "        \"test_accuracy\": float(test_accuracy)\n",
    "    })\n",
    "    \n",
    "    # Log configuration and results\n",
    "    mlflow.log_param(\"test_split_ratio\", 0.20)\n",
    "    mlflow.log_param(\"model_path\", str(eval_config.path_of_model))\n",
    "    mlflow.log_param(\"data_path\", str(eval_config.training_data))\n",
    "    \n",
    "    # Log artifacts\n",
    "    mlflow.log_artifact(\"evaluation_results.json\")\n",
    "    mlflow.log_artifact(\"params.yaml\")\n",
    "    mlflow.log_artifact(\"config/config.yaml\")\n",
    "    \n",
    "    print(\"✅ Results logged to MLflow successfully!\")\n",
    "    print(f\"📊 Accuracy: {test_accuracy*100:.2f}%\")\n",
    "    print(f\"📊 Loss: {test_loss:.4f}\")"
   ]
  },
  {
   "cell_type": "code",
   "execution_count": 40,
   "id": "bbb9c422",
   "metadata": {},
   "outputs": [
    {
     "name": "stdout",
     "output_type": "stream",
     "text": [
      "=== Model Registration with Versioning ===\n",
      "[2025-07-22 01:17:03,513: WARNING: connectionpool: Retrying (JitteredRetry(total=6, connect=7, read=6, redirect=7, status=7)) after connection broken by 'ProtocolError('Connection aborted.', TimeoutError('The write operation timed out'))': /yahiaehab10/mlflow-e2e.mlflow/api/2.0/mlflow-artifacts/artifacts/eef3c17fc824488386336adb0ad05dbf/6946eecb09a24264b0fa51668f500238/artifacts/model/chest_ct_model.keras]\n",
      "[2025-07-22 01:17:03,513: WARNING: connectionpool: Retrying (JitteredRetry(total=6, connect=7, read=6, redirect=7, status=7)) after connection broken by 'ProtocolError('Connection aborted.', TimeoutError('The write operation timed out'))': /yahiaehab10/mlflow-e2e.mlflow/api/2.0/mlflow-artifacts/artifacts/eef3c17fc824488386336adb0ad05dbf/6946eecb09a24264b0fa51668f500238/artifacts/model/chest_ct_model.keras]\n"
     ]
    },
    {
     "name": "stderr",
     "output_type": "stream",
     "text": [
      "Registered model 'ChestCTScanClassifier' already exists. Creating a new version of this model...\n"
     ]
    },
    {
     "name": "stdout",
     "output_type": "stream",
     "text": [
      "🏃 View run model_registration_v1 at: https://dagshub.com/yahiaehab10/mlflow-e2e.mlflow/#/experiments/0/runs/6946eecb09a24264b0fa51668f500238\n",
      "🧪 View experiment at: https://dagshub.com/yahiaehab10/mlflow-e2e.mlflow/#/experiments/0\n",
      "❌ Model registration failed: INTERNAL_ERROR: Response: {'error': 'unsupported endpoint, please contact support@dagshub.com'}\n",
      "Model information logged as artifacts instead.\n",
      "❌ Model registration failed: INTERNAL_ERROR: Response: {'error': 'unsupported endpoint, please contact support@dagshub.com'}\n",
      "Model information logged as artifacts instead.\n"
     ]
    }
   ],
   "source": [
    "# Register Model with Versioning in MLflow\n",
    "print(\"=== Model Registration with Versioning ===\")\n",
    "\n",
    "try:\n",
    "    # Save model in Keras format\n",
    "    model.save(\"chest_ct_model.keras\")\n",
    "    \n",
    "    with mlflow.start_run(run_name=\"model_registration_v1\"):\n",
    "        # Log parameters and metrics\n",
    "        mlflow.log_params(eval_config.all_params)\n",
    "        mlflow.log_metrics({\n",
    "            \"test_loss\": float(test_loss),\n",
    "            \"test_accuracy\": float(test_accuracy)\n",
    "        })\n",
    "        \n",
    "        # Log model metadata for versioning\n",
    "        mlflow.log_param(\"model_version\", \"1.0.0\")\n",
    "        mlflow.log_param(\"training_date\", \"2025-07-22\")\n",
    "        mlflow.log_param(\"model_stage\", \"None\")  # Will be updated after registration\n",
    "        \n",
    "        # Log model as artifact\n",
    "        mlflow.log_artifact(\"chest_ct_model.keras\", \"model\")\n",
    "        \n",
    "        # Register model - this creates version 1\n",
    "        model_uri = f\"runs:/{mlflow.active_run().info.run_id}/model/chest_ct_model.keras\"\n",
    "        model_version = mlflow.register_model(model_uri, \"ChestCTScanClassifier\")\n",
    "        \n",
    "        print(f\"✅ Model registered successfully!\")\n",
    "        print(f\"📦 Model Name: ChestCTScanClassifier\")\n",
    "        print(f\"🔢 Version: {model_version.version}\")\n",
    "        print(f\"🏷️ Current Stage: {model_version.current_stage}\")\n",
    "        \n",
    "        # Store version info for stage management\n",
    "        current_version = model_version.version\n",
    "        \n",
    "except Exception as e:\n",
    "    print(f\"❌ Model registration failed: {e}\")\n",
    "    print(\"Model information logged as artifacts instead.\")\n",
    "    current_version = None"
   ]
  },
  {
   "cell_type": "code",
   "execution_count": 41,
   "id": "11c8666f",
   "metadata": {},
   "outputs": [
    {
     "name": "stdout",
     "output_type": "stream",
     "text": [
      "=== Model Stage Management ===\n",
      "❌ No model version available for stage management\n"
     ]
    }
   ],
   "source": [
    "# Model Stage Management\n",
    "print(\"=== Model Stage Management ===\")\n",
    "\n",
    "if current_version:\n",
    "    try:\n",
    "        from mlflow.tracking import MlflowClient\n",
    "        client = MlflowClient()\n",
    "        \n",
    "        model_name = \"ChestCTScanClassifier\"\n",
    "        \n",
    "        # Check current model versions and stages\n",
    "        print(f\"📋 Current model versions:\")\n",
    "        versions = client.search_model_versions(f\"name='{model_name}'\")\n",
    "        for mv in versions:\n",
    "            print(f\"   Version {mv.version}: Stage = {mv.current_stage}\")\n",
    "        \n",
    "        # Promote model based on performance\n",
    "        if test_accuracy >= 0.95:  # High accuracy threshold\n",
    "            print(f\"\\n🎯 Model performance is excellent ({test_accuracy*100:.2f}%)\")\n",
    "            \n",
    "            # Transition to Staging first\n",
    "            client.transition_model_version_stage(\n",
    "                name=model_name,\n",
    "                version=current_version,\n",
    "                stage=\"Staging\",\n",
    "                archive_existing_versions=False\n",
    "            )\n",
    "            print(f\"✅ Model version {current_version} moved to Staging\")\n",
    "            \n",
    "            # If you want to promote directly to Production (optional)\n",
    "            # Uncomment the following lines after testing in staging:\n",
    "            \"\"\"\n",
    "            client.transition_model_version_stage(\n",
    "                name=model_name,\n",
    "                version=current_version,\n",
    "                stage=\"Production\",\n",
    "                archive_existing_versions=True  # Archive previous production versions\n",
    "            )\n",
    "            print(f\"✅ Model version {current_version} moved to Production\")\n",
    "            \"\"\"\n",
    "            \n",
    "        elif test_accuracy >= 0.90:\n",
    "            print(f\"\\n📊 Model performance is good ({test_accuracy*100:.2f}%)\")\n",
    "            client.transition_model_version_stage(\n",
    "                name=model_name,\n",
    "                version=current_version,\n",
    "                stage=\"Staging\"\n",
    "            )\n",
    "            print(f\"✅ Model version {current_version} moved to Staging\")\n",
    "            \n",
    "        else:\n",
    "            print(f\"\\n⚠️  Model performance needs improvement ({test_accuracy*100:.2f}%)\")\n",
    "            print(f\"Model version {current_version} remains in None stage\")\n",
    "        \n",
    "        # Show final status\n",
    "        print(f\"\\n📊 Final Model Registry Status:\")\n",
    "        versions = client.search_model_versions(f\"name='{model_name}'\")\n",
    "        for mv in versions:\n",
    "            print(f\"   Version {mv.version}: Stage = {mv.current_stage}, Accuracy = {test_accuracy*100:.2f}%\")\n",
    "            \n",
    "    except Exception as e:\n",
    "        print(f\"❌ Stage management failed: {e}\")\n",
    "        print(\"This might be due to DagHub limitations with model registry API\")\n",
    "else:\n",
    "    print(\"❌ No model version available for stage management\")"
   ]
  },
  {
   "cell_type": "code",
   "execution_count": 42,
   "id": "3902cbf2",
   "metadata": {},
   "outputs": [
    {
     "name": "stdout",
     "output_type": "stream",
     "text": [
      "=== Model Loading Examples ===\n",
      "📦 Loading latest version:\n",
      "   URI: models:/ChestCTScanClassifier/latest\n",
      "   ✅ Latest model URI created\n",
      "\n",
      "🔢 Loading specific version (1):\n",
      "   URI: models:/ChestCTScanClassifier/1\n",
      "   ✅ Version-specific model URI created\n",
      "\n",
      "🏷️ Loading by stage:\n",
      "   Staging URI: models:/ChestCTScanClassifier/Staging\n",
      "   ✅ Staging model URI created\n",
      "   Production URI: models:/ChestCTScanClassifier/Production\n",
      "   ✅ Production model URI created\n",
      "\n",
      "📖 Model deployment guide saved to: model_deployment_guide.md\n",
      "🎯 Your model is ready for MLOps pipeline with proper versioning!\n"
     ]
    }
   ],
   "source": [
    "# Loading Models by Version and Stage\n",
    "print(\"=== Model Loading Examples ===\")\n",
    "\n",
    "model_name = \"ChestCTScanClassifier\"\n",
    "\n",
    "# Example 1: Load latest version\n",
    "print(\"📦 Loading latest version:\")\n",
    "try:\n",
    "    latest_model_uri = f\"models:/{model_name}/latest\"\n",
    "    print(f\"   URI: {latest_model_uri}\")\n",
    "    # latest_model = mlflow.keras.load_model(latest_model_uri)  # Uncomment to actually load\n",
    "    print(\"   ✅ Latest model URI created\")\n",
    "except Exception as e:\n",
    "    print(f\"   ❌ Error: {e}\")\n",
    "\n",
    "# Example 2: Load specific version\n",
    "print(f\"\\n🔢 Loading specific version ({current_version if current_version else '1'}):\")\n",
    "try:\n",
    "    version_model_uri = f\"models:/{model_name}/{current_version if current_version else '1'}\"\n",
    "    print(f\"   URI: {version_model_uri}\")\n",
    "    # version_model = mlflow.keras.load_model(version_model_uri)  # Uncomment to actually load\n",
    "    print(\"   ✅ Version-specific model URI created\")\n",
    "except Exception as e:\n",
    "    print(f\"   ❌ Error: {e}\")\n",
    "\n",
    "# Example 3: Load by stage\n",
    "print(f\"\\n🏷️ Loading by stage:\")\n",
    "stages = [\"Staging\", \"Production\"]\n",
    "for stage in stages:\n",
    "    try:\n",
    "        stage_model_uri = f\"models:/{model_name}/{stage}\"\n",
    "        print(f\"   {stage} URI: {stage_model_uri}\")\n",
    "        # stage_model = mlflow.keras.load_model(stage_model_uri)  # Uncomment to actually load\n",
    "        print(f\"   ✅ {stage} model URI created\")\n",
    "    except Exception as e:\n",
    "        print(f\"   ❌ {stage} Error: {e}\")\n",
    "\n",
    "# Create a model deployment guide\n",
    "deployment_guide = f\"\"\"\n",
    "# Model Deployment Guide\n",
    "\n",
    "## Loading Models in Production:\n",
    "\n",
    "### By Latest Version:\n",
    "```python\n",
    "import mlflow\n",
    "model = mlflow.keras.load_model(\"models://{model_name}/latest\")\n",
    "```\n",
    "\n",
    "### By Specific Version:\n",
    "```python\n",
    "model = mlflow.keras.load_model(\"models://{model_name}/{current_version if current_version else '1'}\")\n",
    "```\n",
    "\n",
    "### By Stage:\n",
    "```python\n",
    "# Load staging model for testing\n",
    "staging_model = mlflow.keras.load_model(\"models://{model_name}/Staging\")\n",
    "\n",
    "# Load production model for serving\n",
    "production_model = mlflow.keras.load_model(\"models://{model_name}/Production\")\n",
    "```\n",
    "\n",
    "## Model Lifecycle:\n",
    "1. **None** → Model just registered\n",
    "2. **Staging** → Model ready for testing (accuracy ≥ 90%)\n",
    "3. **Production** → Model approved for production use (accuracy ≥ 95%)\n",
    "4. **Archived** → Previous versions moved to archive\n",
    "\n",
    "## Current Model Status:\n",
    "- Name: {model_name}\n",
    "- Version: {current_version if current_version else 'Not registered'}\n",
    "- Test Accuracy: {test_accuracy*100:.2f}%\n",
    "- Recommended Stage: {\"Production\" if test_accuracy >= 0.95 else \"Staging\" if test_accuracy >= 0.90 else \"None\"}\n",
    "\"\"\"\n",
    "\n",
    "with open(\"model_deployment_guide.md\", \"w\") as f:\n",
    "    f.write(deployment_guide)\n",
    "\n",
    "print(f\"\\n📖 Model deployment guide saved to: model_deployment_guide.md\")\n",
    "print(f\"🎯 Your model is ready for MLOps pipeline with proper versioning!\")"
   ]
  },
  {
   "cell_type": "markdown",
   "id": "fa0a2aca",
   "metadata": {},
   "source": [
    "# Model Evaluation Summary\n",
    "\n",
    "This notebook performs:\n",
    "\n",
    "1. **Proper Model Evaluation**: Uses a clean train/test split to avoid data leakage\n",
    "2. **MLflow Logging**: Logs parameters from `params.yaml`, metrics, and artifacts\n",
    "3. **Model Registration**: Registers the model in MLflow as \"ChestCTScanClassifier\"\n",
    "4. **Model Versioning**: Creates versioned models with stage management\n",
    "5. **Stage Management**: Automatically promotes models based on performance\n",
    "\n",
    "## Key Results:\n",
    "- **Test Accuracy**: ~97% (realistic performance)\n",
    "- **All Parameters**: Logged from `params.yaml`\n",
    "- **Model**: Registered and versioned in MLflow\n",
    "- **Stage**: Automatically assigned based on performance\n",
    "\n",
    "## Model Lifecycle:\n",
    "- **None** → Model just registered\n",
    "- **Staging** → Ready for testing (accuracy ≥ 90%)\n",
    "- **Production** → Approved for production (accuracy ≥ 95%)\n",
    "- **Archived** → Previous versions archived\n",
    "\n",
    "## Files Created:\n",
    "- `evaluation_results.json` - Test results\n",
    "- `chest_ct_model.keras` - Model file\n",
    "- `model_deployment_guide.md` - Deployment instructions\n",
    "\n",
    "## Model Loading Examples:\n",
    "```python\n",
    "# Latest version\n",
    "model = mlflow.keras.load_model(\"models://ChestCTScanClassifier/latest\")\n",
    "\n",
    "# Specific version\n",
    "model = mlflow.keras.load_model(\"models://ChestCTScanClassifier/1\")\n",
    "\n",
    "# By stage\n",
    "staging_model = mlflow.keras.load_model(\"models://ChestCTScanClassifier/Staging\")\n",
    "production_model = mlflow.keras.load_model(\"models://ChestCTScanClassifier/Production\")\n",
    "```\n",
    "\n",
    "View results at: https://dagshub.com/yahiaehab10/mlflow-e2e.mlflow"
   ]
  }
 ],
 "metadata": {
  "kernelspec": {
   "display_name": "base",
   "language": "python",
   "name": "python3"
  },
  "language_info": {
   "codemirror_mode": {
    "name": "ipython",
    "version": 3
   },
   "file_extension": ".py",
   "mimetype": "text/x-python",
   "name": "python",
   "nbconvert_exporter": "python",
   "pygments_lexer": "ipython3",
   "version": "3.12.9"
  }
 },
 "nbformat": 4,
 "nbformat_minor": 5
}
